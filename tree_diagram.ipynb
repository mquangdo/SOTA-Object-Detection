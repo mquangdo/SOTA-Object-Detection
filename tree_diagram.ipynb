{
 "cells": [
  {
   "cell_type": "code",
   "execution_count": 3,
   "id": "bd012dcc-0a1c-4588-9bb8-f302e7392864",
   "metadata": {},
   "outputs": [
    {
     "name": "stdout",
     "output_type": "stream",
     "text": [
      "|-- .git\n",
      "|   |-- config\n",
      "|   |-- description\n",
      "|   |-- HEAD\n",
      "|   |-- hooks\n",
      "|   |   |-- applypatch-msg.sample\n",
      "|   |   |-- commit-msg.sample\n",
      "|   |   |-- fsmonitor-watchman.sample\n",
      "|   |   |-- post-update.sample\n",
      "|   |   |-- pre-applypatch.sample\n",
      "|   |   |-- pre-commit.sample\n",
      "|   |   |-- pre-merge-commit.sample\n",
      "|   |   |-- pre-push.sample\n",
      "|   |   |-- pre-rebase.sample\n",
      "|   |   |-- pre-receive.sample\n",
      "|   |   |-- prepare-commit-msg.sample\n",
      "|   |   |-- push-to-checkout.sample\n",
      "|   |   |-- sendemail-validate.sample\n",
      "|   |   |-- update.sample\n",
      "|   |-- index\n",
      "|   |-- info\n",
      "|   |   |-- exclude\n",
      "|   |-- logs\n",
      "|   |   |-- HEAD\n",
      "|   |   |-- refs\n",
      "|   |   |   |-- heads\n",
      "|   |   |   |   |-- main\n",
      "|   |   |   |-- remotes\n",
      "|   |   |   |   |-- origin\n",
      "|   |   |   |   |   |-- HEAD\n",
      "|   |-- objects\n",
      "|   |   |-- info\n",
      "|   |   |-- pack\n",
      "|   |   |   |-- pack-01732b9051e450162335841e718ec5b81cd8212a.idx\n",
      "|   |   |   |-- pack-01732b9051e450162335841e718ec5b81cd8212a.pack\n",
      "|   |   |   |-- pack-01732b9051e450162335841e718ec5b81cd8212a.rev\n",
      "|   |-- packed-refs\n",
      "|   |-- refs\n",
      "|   |   |-- heads\n",
      "|   |   |   |-- main\n",
      "|   |   |-- remotes\n",
      "|   |   |   |-- origin\n",
      "|   |   |   |   |-- HEAD\n",
      "|   |   |-- tags\n",
      "|-- .ipynb_checkpoints\n",
      "|   |-- tree_diagram-checkpoint.ipynb\n",
      "|-- images\n",
      "|   |-- .ipynb_checkpoints\n",
      "|   |   |-- brothers-checkpoint.jpg\n",
      "|   |-- brothers.jpg\n",
      "|-- README.md\n",
      "|-- tree_diagram.ipynb\n",
      "|-- YOLOv8\n",
      "|   |-- .ipynb_checkpoints\n",
      "|   |   |-- test-checkpoint.ipynb\n",
      "|   |-- aarohi\n",
      "|   |   |-- .ipynb_checkpoints\n",
      "|   |   |   |-- 1.object_detection_custom_data-checkpoint.ipynb\n",
      "|   |   |-- 1.object_detection_custom_data.ipynb\n",
      "|   |   |-- yolov8n.pt\n",
      "|   |-- test.ipynb\n"
     ]
    }
   ],
   "source": [
    "import os\n",
    "\n",
    "def print_tree(startpath, prefix=''):\n",
    "    for item in os.listdir(startpath):\n",
    "        path = os.path.join(startpath, item)\n",
    "        print(prefix + '|-- ' + item)\n",
    "        if os.path.isdir(path):\n",
    "            print_tree(path, prefix + '|   ')\n",
    "\n",
    "print_tree('.')  # hoặc thay '.' bằng đường dẫn thư mục bạn muốn duyệt"
   ]
  }
 ],
 "metadata": {
  "kernelspec": {
   "display_name": "Python 3 (ipykernel)",
   "language": "python",
   "name": "python3"
  },
  "language_info": {
   "codemirror_mode": {
    "name": "ipython",
    "version": 3
   },
   "file_extension": ".py",
   "mimetype": "text/x-python",
   "name": "python",
   "nbconvert_exporter": "python",
   "pygments_lexer": "ipython3",
   "version": "3.12.4"
  }
 },
 "nbformat": 4,
 "nbformat_minor": 5
}
